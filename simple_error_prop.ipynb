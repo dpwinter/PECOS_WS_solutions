{
 "cells": [
  {
   "cell_type": "code",
   "execution_count": 3,
   "id": "1c885803-5096-4018-8bae-21a6a63ce844",
   "metadata": {},
   "outputs": [
    {
     "name": "stdout",
     "output_type": "stream",
     "text": [
      "{'X': set(), 'Y': {1}, 'Z': {0}}\n"
     ]
    }
   ],
   "source": [
    "import pecos as pc\n",
    "import numpy as np\n",
    "\n",
    "# How do errors propagate through simple circuits?\n",
    "qc = pc.circuits.QuantumCircuit() # quantum circuit\n",
    "qc.append('init |0>', {0,1})\n",
    "qc.append('CNOT',{(0,1)})\n",
    "\n",
    "fault = pc.error_gens.ErrorCircuits()\n",
    "fault_qc = pc.circuits.QuantumCircuit() # circuit of error\n",
    "fault_qc.append('Y', {1})\n",
    "fault.add_circuits(time=1, before_faults=fault_qc) # add X error before CNOT\n",
    "\n",
    "# run circuit with pauli fault\n",
    "circ_runner = pc.circuit_runners.Standard(seed=np.random.randint(1e9))\n",
    "state = pc.simulators.PauliFaultProp(2) # 2 qubits\n",
    "circ_runner.run(state, qc, error_circuits=fault)\n",
    "print(state.faults)\n",
    "\n",
    "# |0>|0> -> CNOT01 X|0>|0> => X|0>X|0> (CNOT propagates X fr. control to target)\n",
    "# |0>|0> -> CNOT01 |0>X|0> => |0>X|0> (.. but not from target to control.\n",
    "\n",
    "# |0>|0> -> CNOT01 |0>Z|0> => Z|0>Z|0> (CNOT propagates Z fr. target to control)\n",
    "# |0>|0> -> CNOT01 Z|0>|0> => Z|0>|0> (.. but not from contrl to target.\n",
    "\n",
    "# |0>|0> -> CNOT01 Y|0>|0> => Y|0>X|0> (Y on control propagates X to target)\n",
    "# |0>|0> -> CNOT01 |0>Y|0> => Z|0>Y|0> (Y on target propagates Z to control)"
   ]
  }
 ],
 "metadata": {
  "kernelspec": {
   "display_name": "Python 3 (ipykernel)",
   "language": "python",
   "name": "python3"
  },
  "language_info": {
   "codemirror_mode": {
    "name": "ipython",
    "version": 3
   },
   "file_extension": ".py",
   "mimetype": "text/x-python",
   "name": "python",
   "nbconvert_exporter": "python",
   "pygments_lexer": "ipython3",
   "version": "3.9.7"
  }
 },
 "nbformat": 4,
 "nbformat_minor": 5
}
