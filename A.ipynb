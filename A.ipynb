{
 "cells": [
  {
   "cell_type": "code",
   "execution_count": 2,
   "id": "8e2652eb-a0ae-4d24-b5b3-ee9d9ea6852c",
   "metadata": {},
   "outputs": [],
   "source": [
    "import numpy as np\n",
    "import pecos as pc"
   ]
  },
  {
   "cell_type": "markdown",
   "id": "e2d16f11-086d-4341-bfad-180fae3e19d3",
   "metadata": {},
   "source": [
    "Definitions:\n",
    "* **Fault**: Pauli-error on position (t,qb) in circuit\n",
    "* **Error**: Resulting Pauli-error on the output state\n",
    "* **Failure**: Change of logical output state"
   ]
  },
  {
   "cell_type": "markdown",
   "id": "fff5edb7-3797-4fd7-a9dc-4c9a53e8dc5c",
   "metadata": {},
   "source": [
    "**Task**: Verification that faults can propagate to become errors"
   ]
  },
  {
   "cell_type": "code",
   "execution_count": 5,
   "id": "b09b7ed3-a60b-4649-9bbb-2110689ace3a",
   "metadata": {},
   "outputs": [
    {
     "name": "stdout",
     "output_type": "stream",
     "text": [
      "X on qb 0 caused error {'X': {0, 1}, 'Y': set(), 'Z': set()}\n",
      "X on qb 1 caused error {'X': {1}, 'Y': set(), 'Z': set()}\n",
      "Y on qb 0 caused error {'X': {1}, 'Y': {0}, 'Z': set()}\n",
      "Y on qb 1 caused error {'X': set(), 'Y': {1}, 'Z': {0}}\n",
      "Z on qb 0 caused error {'X': set(), 'Y': set(), 'Z': {0}}\n",
      "Z on qb 1 caused error {'X': set(), 'Y': set(), 'Z': {0, 1}}\n"
     ]
    }
   ],
   "source": [
    "# 1. CNOT: verification of fault propagation\n",
    "\n",
    "n_qbs = 2\n",
    "\n",
    "# Ideal circuit (without faults)\n",
    "circ = pc.circuits.QuantumCircuit()\n",
    "circ.append('CNOT', {(0,1)})\n",
    "\n",
    "for op in ['X','Y','Z']:\n",
    "    for qb in range(n_qbs):\n",
    "        \n",
    "        # create single qb error (fault)\n",
    "        err_circ = pc.error_gens.ErrorCircuits()\n",
    "        qc = pc.circuits.QuantumCircuit()\n",
    "        qc.append(op, {qb}) # single qb error\n",
    "        err_circ.add_circuits(time=0, before_faults=qc)\n",
    "        \n",
    "        # simulate propagation of this particular fault through circuit\n",
    "        state = pc.simulators.PauliFaultProp(n_qbs) # track changes of Pauli ops, init state=II\n",
    "        circ_runner = pc.circuit_runners.Standard(seed=np.random.randint(1e9))\n",
    "        circ_runner.run(state, circ, error_circuits=err_circ) # apply fault with 100% at t=0\n",
    "        \n",
    "        # readout faults from state\n",
    "        faults = state.faults\n",
    "        print(\"%s on qb %d caused error %s\" %(op, qb, faults))\n",
    "\n",
    "### We can see clearly the 'forward propagation' of X faults and\n",
    "### the 'backwards propagation' of Z faults (first and last line)\n",
    "### These are examples of weight-1 faults causing weight-2 errors"
   ]
  },
  {
   "cell_type": "markdown",
   "id": "fa2052d5-bef5-4f39-aeed-d4912b97bc12",
   "metadata": {},
   "source": [
    "Mølmer–Sørensen n-qubit gate: <br>\n",
    "$MS_{\\phi}(\\theta)=exp(-i \\frac{\\phi}{4} S_{\\phi}^2)$ with $S_{\\phi} = \\sum_{i=1}^{n}cos(\\phi)X_i + sin(\\phi)Y_i$ <br>\n",
    "* We use n=2 qubits, $\\phi=0$ and $\\theta=\\pi$: $MS_0(\\phi)=exp(-i\\frac{\\pi}{4}X_1X_2)$"
   ]
  },
  {
   "cell_type": "code",
   "execution_count": 6,
   "id": "b6263951-d951-4815-8614-ade95b450f84",
   "metadata": {},
   "outputs": [
    {
     "name": "stdout",
     "output_type": "stream",
     "text": [
      "X on qb 0 caused error {'X': {0}, 'Y': set(), 'Z': set()}\n",
      "X on qb 1 caused error {'X': {1}, 'Y': set(), 'Z': set()}\n",
      "Y on qb 0 caused error {'X': {1}, 'Y': set(), 'Z': {0}}\n",
      "Y on qb 1 caused error {'X': {0}, 'Y': set(), 'Z': {1}}\n",
      "Z on qb 0 caused error {'X': {1}, 'Y': {0}, 'Z': set()}\n",
      "Z on qb 1 caused error {'X': {0}, 'Y': {1}, 'Z': set()}\n"
     ]
    }
   ],
   "source": [
    "# 2. MS: verification of fault propagation\n",
    "\n",
    "n_qbs = 2\n",
    "\n",
    "# Ideal circuit (without faults)\n",
    "circ = pc.circuits.QuantumCircuit()\n",
    "circ.append('MS', {(0,1)})\n",
    "\n",
    "for op in ['X','Y','Z']:\n",
    "    for qb in range(n_qbs):\n",
    "        \n",
    "        # create single qb error (fault)\n",
    "        err_circ = pc.error_gens.ErrorCircuits()\n",
    "        qc = pc.circuits.QuantumCircuit()\n",
    "        qc.append(op, {qb}) # single qb error\n",
    "        err_circ.add_circuits(time=0, before_faults=qc)\n",
    "        \n",
    "        # simulate propagation of this particular fault through circuit\n",
    "        state = pc.simulators.PauliFaultProp(n_qbs) # track changes of Pauli ops, init state=II\n",
    "        circ_runner = pc.circuit_runners.Standard(seed=np.random.randint(1e9))\n",
    "        circ_runner.run(state, circ, error_circuits=err_circ) # apply fault with 100% at t=0\n",
    "        \n",
    "        # readout faults from state\n",
    "        faults = state.faults\n",
    "        print(\"%s on qb %d caused error %s\" %(op, qb, faults))\n",
    "\n",
    "### Also here we see weight-2 errors caused by either Y or Z errors on any qubit."
   ]
  }
 ],
 "metadata": {
  "kernelspec": {
   "display_name": "Python 3 (ipykernel)",
   "language": "python",
   "name": "python3"
  },
  "language_info": {
   "codemirror_mode": {
    "name": "ipython",
    "version": 3
   },
   "file_extension": ".py",
   "mimetype": "text/x-python",
   "name": "python",
   "nbconvert_exporter": "python",
   "pygments_lexer": "ipython3",
   "version": "3.9.7"
  }
 },
 "nbformat": 4,
 "nbformat_minor": 5
}
