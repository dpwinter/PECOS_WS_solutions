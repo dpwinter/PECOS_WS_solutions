{
 "cells": [
  {
   "cell_type": "markdown",
   "id": "d6463b58-4234-4ece-8975-f4b51bbcab2b",
   "metadata": {},
   "source": [
    "* Global params:\n",
    "    * n: No. of global samples\n",
    "    * v_L: Global variance of logical failure rate estimator\n",
    "    * p_L: Global estimator of logical failure rate\n",
    "    * xi_min: Global path cutoff parameter, defines implicitely global w_max\n",
    "    * eta: Global target variance (set either this or n?)\n",
    "    * Protocol: Protocol object, containing:\n",
    "        * C: Set of circuits defined in protocol\n",
    "        * R(m,i): Rule function to calculate next circuit index i+1 from measurement result m and prev. circuit index i\n",
    "    * A: Growing list of relevant weight-subset selection probabilities (i.e. binomial coefficients) per circuit in P.C\n",
    "    * N: Matrix of no. of samples for each (circuit, weight) combination from C.\n",
    "    * P: Matrix of transition probabilities between (circuit,weight) combinations.\n",
    "    * V: Matrix of variances corresponding to each element in P."
   ]
  },
  {
   "cell_type": "code",
   "execution_count": 20,
   "id": "4f6db6ab-6dca-4b8a-8a61-23ce7991fb73",
   "metadata": {},
   "outputs": [
    {
     "name": "stdout",
     "output_type": "stream",
     "text": [
      "QuantumCircuit([{'H': {0}}, {'CNOT': {(0, 1)}}, {'CNOT': {(1, 2)}}, {'CNOT': {(2, 3)}}, {'CNOT': {(3, 4)}}, {'CNOT': {(0, 4)}}, {'measure Z': {4}}])\n"
     ]
    }
   ],
   "source": [
    "import pecos as pc\n",
    "\n",
    "class Protocol:\n",
    "    \n",
    "    def __init__(self, circuits):\n",
    "        self.circuits = circuits\n",
    "        self.i = 0 # circuit list index\n",
    "    \n",
    "    def next(self):\n",
    "        \"\"\" Define rules for selecting next circuit. \"\"\"\n",
    "        NotImplemented\n",
    "    \n",
    "    def end(self):\n",
    "        \"\"\" Define conditions for ending the protocol. \"\"\"\n",
    "        NotImplemented\n",
    "        \n",
    "class RUS(Protocol):\n",
    "    \"\"\" Repeat-until-success protocol \"\"\"\n",
    "    \n",
    "    def __init__(self, n, circuits):\n",
    "        self.n = n\n",
    "        super().__init__(circuits)\n",
    "    \n",
    "    def end(self, flag):\n",
    "        if self.i < self.n or flag == 0:\n",
    "            self.i += 1\n",
    "            return False\n",
    "        else:\n",
    "            self.i = 0\n",
    "            return True\n",
    "        \n",
    "    def next(self, flag):\n",
    "        if not self.end(flag):\n",
    "            return self.circuits[self.i]\n",
    "\n",
    "class RepeatedGHZ(RUS):\n",
    "    \n",
    "    def __init__(self, n):\n",
    "        ghz = pc.circuits.QuantumCircuit()\n",
    "        ghz.append('H', {0})\n",
    "        ghz.append('CNOT', {(0,1)})\n",
    "        ghz.append('CNOT', {(1,2)})\n",
    "        ghz.append('CNOT', {(2,3)})\n",
    "        ghz.append('CNOT', {(3,4)})\n",
    "        ghz.append('CNOT', {(0,4)})\n",
    "        ghz.append('measure Z', {4})\n",
    "        super().__init__(n, [ghz] * n)\n",
    "        \n",
    "p = RepeatedGHZ(3)\n",
    "print(p.next(0))"
   ]
  },
  {
   "cell_type": "code",
   "execution_count": null,
   "id": "94fd879a-8a9c-4a88-bcb5-4a305f0a86aa",
   "metadata": {},
   "outputs": [],
   "source": [
    "circ_runner = pc.circuit_runners.Standard(seed=42)\n"
   ]
  },
  {
   "cell_type": "code",
   "execution_count": null,
   "id": "f4840f69-a1ae-43ae-bf05-7e333668b952",
   "metadata": {},
   "outputs": [],
   "source": [
    "import numpy as np\n",
    "\n",
    "erv = lambda v0, v1: v1 - v0\n",
    "var = lambda p, N, A: None\n",
    "\n",
    "# Need method to define size of matrices: max_weight x max_len\n",
    "max_weight = 4\n",
    "max_len = 6\n",
    "# A can be calculated in advance then.. but don't know possible circuit sequences in advance.."
   ]
  }
 ],
 "metadata": {
  "kernelspec": {
   "display_name": "Python 3 (ipykernel)",
   "language": "python",
   "name": "python3"
  },
  "language_info": {
   "codemirror_mode": {
    "name": "ipython",
    "version": 3
   },
   "file_extension": ".py",
   "mimetype": "text/x-python",
   "name": "python",
   "nbconvert_exporter": "python",
   "pygments_lexer": "ipython3",
   "version": "3.10.4"
  }
 },
 "nbformat": 4,
 "nbformat_minor": 5
}
