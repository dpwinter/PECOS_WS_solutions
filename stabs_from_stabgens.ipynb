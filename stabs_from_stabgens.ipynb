{
 "cells": [
  {
   "cell_type": "markdown",
   "id": "edc1e0e2-eedb-46ca-9a5a-c07aa016db15",
   "metadata": {},
   "source": [
    "**Generate stabilizer group from stabilizer generators**"
   ]
  },
  {
   "cell_type": "code",
   "execution_count": 5,
   "id": "19d3e67e-d3a9-40fe-aa38-106e3e60f5c9",
   "metadata": {},
   "outputs": [
    {
     "data": {
      "text/plain": [
       "['IZZ', 'ZII', 'ZZZ']"
      ]
     },
     "execution_count": 5,
     "metadata": {},
     "output_type": "execute_result"
    }
   ],
   "source": [
    "import itertools as it\n",
    "import functools as ft\n",
    "\n",
    "def powerset(iterable): # return list of every possible combination tuple\n",
    "    s = list(iterable)\n",
    "    return it.chain.from_iterable(it.combinations(s,r) for r in range(len(s)+1))\n",
    "\n",
    "MULT_TABLE = { # multiplication table: (op1,op2) => (phase,op), phase: 0:+1,1:i,2:-1,3:-i\n",
    "    ('I', 'I'): (0, 'I'), ('I', 'X'): (0, 'X'), ('I', 'Y'): (0, 'Y'), ('I', 'Z'): (0, 'Z'),\n",
    "    ('X', 'I'): (0, 'X'), ('X', 'X'): (0, 'I'), ('X', 'Y'): (1, 'Z'), ('X', 'Z'): (3, 'Y'),\n",
    "    ('Y', 'I'): (0, 'Y'), ('Y', 'X'): (3, 'Z'), ('Y', 'Y'): (0, 'I'), ('Y', 'Z'): (1, 'X'),\n",
    "    ('Z', 'I'): (0, 'Z'), ('Z', 'X'): (1, 'Y'), ('Z', 'Y'): (3, 'X'), ('Z', 'Z'): (0, 'I')\n",
    "}\n",
    "\n",
    "def pauli_mult(a, b): # multiply 2 pauli ops according to table, ignore phase\n",
    "    assert len(a) == len(b) # pauli strings must be same length\n",
    "    product = '' # resulting pauli string\n",
    "    for i in range(len(a)): # loop over pauli string positions\n",
    "        _, op = MULT_TABLE[(a[i], b[i])] # product of i-th pauli ops in pauli string\n",
    "        product += op # add to i-th position in result string\n",
    "    return product\n",
    "\n",
    "def gen_group(gens): # \n",
    "    for prod in powerset(gens): # Ex. powerset(['ZZI','IZZ'])=[(), ('ZZI',), ('IZZ',), ('ZZI', 'IZZ')]\n",
    "        if len(prod) > 0: yield ft.reduce(lambda P,Q: pauli_mult(P,Q), prod) # chain pauli_mult: p1*p2*p3*..\n",
    "\n",
    "# a: stab gens from Nature article, b: stab gens from SparseSim\n",
    "gens = ['IZZ', 'ZII']\n",
    "list(gen_group(gens))"
   ]
  }
 ],
 "metadata": {
  "kernelspec": {
   "display_name": "Python 3 (ipykernel)",
   "language": "python",
   "name": "python3"
  },
  "language_info": {
   "codemirror_mode": {
    "name": "ipython",
    "version": 3
   },
   "file_extension": ".py",
   "mimetype": "text/x-python",
   "name": "python",
   "nbconvert_exporter": "python",
   "pygments_lexer": "ipython3",
   "version": "3.9.7"
  }
 },
 "nbformat": 4,
 "nbformat_minor": 5
}
