{
 "cells": [
  {
   "cell_type": "code",
   "execution_count": 1,
   "id": "eaab1d83-3d59-4071-9b73-18c87b067345",
   "metadata": {},
   "outputs": [],
   "source": [
    "import pecos as pc\n",
    "import numpy as np\n",
    "import matplotlib.pyplot as plt"
   ]
  },
  {
   "cell_type": "code",
   "execution_count": 40,
   "id": "4cb34956-1e61-4389-a41a-078c6520024b",
   "metadata": {},
   "outputs": [
    {
     "name": "stdout",
     "output_type": "stream",
     "text": [
      "  ZII\n",
      "  IZI\n",
      "  IIZ\n",
      "\n",
      "  ZII\n",
      "  ZZI\n",
      "  IIZ\n",
      "\n",
      " -ZII\n",
      " -ZZI\n",
      "  IIZ\n",
      "-------------------------------\n",
      "  XXI\n",
      "  IXI\n",
      "  IIX\n"
     ]
    },
    {
     "data": {
      "text/plain": [
       "([' -ZII', ' -ZZI', '  IIZ'], ['  XXI', '  IXI', '  IIX'])"
      ]
     },
     "execution_count": 40,
     "metadata": {},
     "output_type": "execute_result"
    }
   ],
   "source": [
    "# The stabilizer simulator\n",
    "state = pc.simulators.SparseSim(3) # 3 qbs initialized to 000\n",
    "state.print_stabs(); # stabilizer generators\n",
    "print()\n",
    "state.run_gate('CNOT', {(0,1)})\n",
    "state.print_stabs();\n",
    "print()\n",
    "state.run_gate('X', {0})\n",
    "state.print_stabs(print_destabs = True)"
   ]
  },
  {
   "cell_type": "code",
   "execution_count": 28,
   "id": "bf7cef4a-1e14-4c64-9502-706761bc4ffa",
   "metadata": {},
   "outputs": [
    {
     "name": "stdout",
     "output_type": "stream",
     "text": [
      "  ZIZIZIZIZI\n",
      " -IZZIIZZIIZ\n",
      "  ZZZIIIIIII\n",
      " -IIIZZZZZII\n",
      "  ZIIZZIIIII\n",
      "  IZIZIZIIII\n",
      "  ZZIZIIZIII\n",
      "  IIIXXXXIII\n",
      "  XIXIXIXIII\n",
      "  IXXIIXXIII\n"
     ]
    }
   ],
   "source": [
    "n_qbs = 10\n",
    "plaquettes = [(3,4,5,6),(0,2,4,6),(1,2,5,6)] # correspond to stab set.\n",
    "msmt_qbs = [7,8,9]\n",
    "COR_TABLE = { 7: 3, 8: 0, 9: 1, 7+8: 4, 8+9: 2, 7+9: 5, 7+8+9: 6 }\n",
    "\n",
    "# Generate circuits\n",
    "def plaquette_qc(basis):\n",
    "    qc = pc.circuits.QuantumCircuit()\n",
    "    # qc.append('init |+>', {0,1,2,3,4,5,6})\n",
    "    qc.append('init %s' % ('|0>' if basis == 'Z' else '|+>'), {7,8,9})\n",
    "    for m_qb, plaquette in zip(msmt_qbs, plaquettes):\n",
    "        for d_qb in plaquette:\n",
    "            if basis == 'Z': qc.append('CNOT', {(d_qb, m_qb)})   # detect and correct X errors\n",
    "            elif basis == 'X': qc.append('CNOT', {(m_qb, d_qb)}) # detect and correct Z errors\n",
    "    qc.append('measure %s' % basis, {7,8,9}) # measure msmt qbs\n",
    "    return qc\n",
    "\n",
    "steane_x = plaquette_qc(basis='X')\n",
    "steane_z = plaquette_qc(basis='Z')\n",
    "circ_runner = pc.circuit_runners.Standard(seed=np.random.randint(1e9))\n",
    "# depolar = pc.error_gens.DepolarGen(model_level='circuit')\n",
    "\n",
    "state = pc.simulators.SparseSim(n_qbs)\n",
    "# introduce some errors\n",
    "state.run_gate('X', {5})\n",
    "\n",
    "# Measure ancillas\n",
    "x_msmt, _ = circ_runner.run(state, steane_x)\n",
    "z_msmt, _ = circ_runner.run(state, steane_z)  \n",
    "    \n",
    "# Calculate syndromes, apply correction (if any)\n",
    "x_syn = sum(list(*x_msmt.values()))\n",
    "z_syn = sum(list(*z_msmt.values()))\n",
    "if x_syn: state.run_gate('Z', {COR_TABLE[x_syn]})\n",
    "if z_syn: state.run_gate('X', {COR_TABLE[z_syn]})\n",
    "\n",
    "state.print_stabs();"
   ]
  }
 ],
 "metadata": {
  "kernelspec": {
   "display_name": "Python 3 (ipykernel)",
   "language": "python",
   "name": "python3"
  },
  "language_info": {
   "codemirror_mode": {
    "name": "ipython",
    "version": 3
   },
   "file_extension": ".py",
   "mimetype": "text/x-python",
   "name": "python",
   "nbconvert_exporter": "python",
   "pygments_lexer": "ipython3",
   "version": "3.9.7"
  }
 },
 "nbformat": 4,
 "nbformat_minor": 5
}
