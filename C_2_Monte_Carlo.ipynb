{
 "cells": [
  {
   "cell_type": "code",
   "execution_count": 2,
   "id": "a80183a0-72ea-4f35-a161-97a44831064c",
   "metadata": {},
   "outputs": [],
   "source": [
    "import pecos as pc\n",
    "import numpy as np\n",
    "import matplotlib.pyplot as plt"
   ]
  },
  {
   "cell_type": "code",
   "execution_count": 3,
   "id": "94ee3168-89cf-4446-83d6-99905af57907",
   "metadata": {},
   "outputs": [],
   "source": [
    "# Create the noise model\n",
    "class DepolarGen(pc.error_gens.parent_class_error_gen.ParentErrorGen):\n",
    "    \n",
    "    two_qubit_gates = {'CNOT', 'CZ', 'SWAP', 'G', 'MS', 'SqrtXX', 'RXX'}\n",
    "    one_qubit_gates = {'I', 'X', 'Y', 'Z', 'Q', 'Qd', 'R', 'Rd', 'S', 'Sd', \n",
    "                       'H', 'H1', 'H2', 'H3', 'H4', 'H5', 'H6', 'H+z+x', 'H-z-x', \n",
    "                       'H+y-z', 'H-y-z', 'H-x+y', 'H-x-y', 'F1', 'F1d', 'F2', \n",
    "                       'F2d', 'F3', 'F3d', 'F4', 'F4d', 'RX', 'RY', 'RZ'}\n",
    "    init_z = {'init |0>', 'init |1>'}\n",
    "    init_xy = {'init |+>', 'init |->', 'init |+i>', 'init |-i>'}\n",
    "    meas_z = {'measure Z'}\n",
    "    meas_xy = {'measure X', 'measure Y'}\n",
    "    error_one_paulis_collection = ['X','Y','Z']\n",
    "    error_two_paulis_collection = [\n",
    "            ('I', 'X'), ('I', 'Y'), ('I', 'Z'),\n",
    "            ('X', 'I'), ('X', 'X'), ('X', 'Y'), ('X', 'Z'),\n",
    "            ('Y', 'I'), ('Y', 'X'), ('Y', 'Y'), ('Y', 'Z'),\n",
    "            ('Z', 'I'), ('Z', 'X'), ('Z', 'Y'), ('Z', 'Z')\n",
    "    ]\n",
    "    \n",
    "    def start(self, circuit, error_params, state):\n",
    "        super().start(circuit, error_params)\n",
    "        \n",
    "    def generate_tick_errors(self, tick_circ, time, **params):\n",
    "        \n",
    "        if type(time) == tuple: tick_index = time[-1]\n",
    "        else: tick_index = time\n",
    "        \n",
    "        before = pc.circuits.QuantumCircuit() # faults before tick\n",
    "        after  = pc.circuits.QuantumCircuit() # faults after tick\n",
    "        \n",
    "        q0 = lambda locs, fault, p: [{fault: {l}} for l in locs if np.random.random() <= p]\n",
    "        q1 = lambda locs, faults, p: [{np.random.choice(faults): {l}} for l in locs if np.random.random() <= p]\n",
    "        q2 = lambda locs, faults, p: [{f: {l}} for ltup in locs  if np.random.random() <= p for (l,f) in zip(ltup, faults[np.random.choice(len(faults))])]\n",
    "        \n",
    "        qc_append = lambda qc, circuit_setup: [qc.append(tick) for tick in circuit_setup]\n",
    "        \n",
    "        for sym, locs, _ in tick_circ.circuit.items(tick_index):\n",
    "            if sym in self.init_z:\n",
    "                qc_append(after, q0(locs, 'X', self.error_params['r']))\n",
    "            elif sym in self.init_xy:\n",
    "                qc_append(after, q0(locs, 'Z', self.error_params['r']))\n",
    "            elif sym in self.meas_z:\n",
    "                qc_append(before, q0(locs, 'X', self.error_params['q']))\n",
    "            elif sym in self.meas_xy:\n",
    "                qc_append(before, q0(locs, 'Z', self.error_params['q']))\n",
    "            elif sym in self.one_qubit_gates:\n",
    "                qc_append(after, q1(locs, self.error_one_paulis_collection, self.error_params['p1']))\n",
    "            elif sym in self.two_qubit_gates:\n",
    "                qc_append(after, q2(locs, self.error_two_paulis_collection, self.error_params['p2']))\n",
    "            elif symbol == 'wait_initial' or symbol == 'wait_final':\n",
    "                pass\n",
    "            else:\n",
    "                raise Exception(\"This error model doesn't handle gate: %s!\" % symbol)\n",
    "        self.error_circuits.add_circuits(time, before_faults=before, after_faults=after)\n",
    "        return self.error_circuits"
   ]
  },
  {
   "cell_type": "code",
   "execution_count": 16,
   "id": "431e4d08-02cc-4c4e-9af7-554a705694bd",
   "metadata": {},
   "outputs": [
    {
     "name": "stdout",
     "output_type": "stream",
     "text": [
      "CPU times: user 10.8 s, sys: 11.7 ms, total: 10.8 s\n",
      "Wall time: 10.8 s\n"
     ]
    },
    {
     "data": {
      "text/plain": [
       "<matplotlib.legend.Legend at 0x7f48272b8d30>"
      ]
     },
     "execution_count": 16,
     "metadata": {},
     "output_type": "execute_result"
    },
    {
     "data": {
      "image/png": "[encoded data removed]",
      "text/plain": [
       "<Figure size 432x288 with 1 Axes>"
      ]
     },
     "metadata": {
      "needs_background": "light"
     },
     "output_type": "display_data"
    }
   ],
   "source": [
    "%%time\n",
    "\n",
    "n_qbs = 10\n",
    "plaquettes = [(3,4,5,6),(0,2,4,6),(1,2,5,6)] # correspond to stab set.\n",
    "msmt_qbs = [7,8,9]\n",
    "COR_TABLE = { 7: 3, 8: 0, 9: 1, 7+8: 4, 8+9: 2, 7+9: 5, 7+8+9: 6 }\n",
    "\n",
    "# Generate circuits\n",
    "def plaquette_qc(basis):\n",
    "    qc = pc.circuits.QuantumCircuit()\n",
    "    qc.append('init %s' % ('|0>' if basis == 'Z' else '|+>'), {7,8,9})\n",
    "    for m_qb, plaquette in zip(msmt_qbs, plaquettes):\n",
    "        for d_qb in plaquette:\n",
    "            if basis == 'Z': qc.append('CNOT', {(d_qb, m_qb)})   # detect and correct X errors\n",
    "            elif basis == 'X': qc.append('CNOT', {(m_qb, d_qb)}) # detect and correct Z errors\n",
    "    qc.append('measure %s' % basis, {7,8,9}) # measure msmt qbs\n",
    "    return qc\n",
    "\n",
    "steane_x = plaquette_qc(basis='X')\n",
    "steane_z = plaquette_qc(basis='Z')\n",
    "circ_runner = pc.circuit_runners.Standard(seed=np.random.randint(1e9))\n",
    "# depolar = pc.error_gens.DepolarGen(model_level='circuit')\n",
    "\n",
    "def MC(p, samples):\n",
    "    logical_errs = 0\n",
    "    e_params = {'r':p, 'q':p, 'p1':p, 'p2':p}\n",
    "    for _ in range(samples):\n",
    "        state = pc.simulators.SparseSim(n_qbs)\n",
    "\n",
    "        # Measure measurement qubits\n",
    "        x_msmt, _ = circ_runner.run(state, steane_x, error_gen=DepolarGen(), error_params=e_params)\n",
    "        z_msmt, _ = circ_runner.run(state, steane_z, error_gen=DepolarGen(), error_params=e_params)  \n",
    "        \n",
    "        # equivalent.\n",
    "        # x_msmt, _ = circ_runner.run(state, steane_x, error_gen=depolar, error_params={'p':p})\n",
    "        # z_msmt, _ = circ_runner.run(state, steane_z, error_gen=depolar, error_params={'p':p}) \n",
    "        \n",
    "        # Calculate syndromes, apply correction (if any)\n",
    "        x_syn = sum(list(*x_msmt.values()))\n",
    "        z_syn = sum(list(*z_msmt.values()))\n",
    "        if x_syn: state.run_gate('Z', {COR_TABLE[x_syn]})\n",
    "        if z_syn: state.run_gate('X', {COR_TABLE[z_syn]})\n",
    "        \n",
    "        # Measure Z\n",
    "        msmt, _ = circ_runner.run(state, pc.circuits.QuantumCircuit([{'measure Z': {0,1,2,3,4,5,6}}]))\n",
    "        parity = len(list(*msmt.values())) % 2\n",
    "        logical_errs += parity\n",
    "    return logical_errs\n",
    "\n",
    "res = 16\n",
    "n_samples = 10\n",
    "pp_range = np.logspace(-3,0,res) # physical error rate range 1e-3..1\n",
    "sample_range = np.int_(n_samples/pp_range)\n",
    "x_fail_rate = np.empty_like(pp_range)\n",
    "\n",
    "for i in range(res):\n",
    "    x_fails = MC(pp_range[i], sample_range[i])\n",
    "    x_fail_rate[i] = x_fails / sample_range[i]\n",
    "    \n",
    "plt.xscale('log')\n",
    "plt.yscale('log')\n",
    "plt.xlabel(r'$p$')\n",
    "plt.ylabel(r'$p_L$')\n",
    "plt.title('Pseudothreshold of Steane Code with depolarizing circuit level noise')\n",
    "plt.errorbar(pp_range, x_fail_rate, yerr=np.sqrt((x_fail_rate-x_fail_rate**2)/sample_range), label='Logical X error')\n",
    "plt.plot(pp_range, pp_range, 'k:', alpha=0.5)\n",
    "plt.legend()"
   ]
  }
 ],
 "metadata": {
  "kernelspec": {
   "display_name": "Python 3 (ipykernel)",
   "language": "python",
   "name": "python3"
  },
  "language_info": {
   "codemirror_mode": {
    "name": "ipython",
    "version": 3
   },
   "file_extension": ".py",
   "mimetype": "text/x-python",
   "name": "python",
   "nbconvert_exporter": "python",
   "pygments_lexer": "ipython3",
   "version": "3.9.7"
  }
 },
 "nbformat": 4,
 "nbformat_minor": 5
}
