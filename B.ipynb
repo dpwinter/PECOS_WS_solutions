{
 "cells": [
  {
   "cell_type": "code",
   "execution_count": 2,
   "id": "70ee1209-34de-440c-b312-d6f3ae8bd264",
   "metadata": {},
   "outputs": [],
   "source": [
    "import pecos as pc\n",
    "import numpy as np\n",
    "import itertools\n",
    "from bitstring import BitArray"
   ]
  },
  {
   "cell_type": "code",
   "execution_count": 3,
   "id": "7de17717-1a39-4e6a-81a9-8ea24431bf63",
   "metadata": {},
   "outputs": [
    {
     "data": {
      "text/plain": [
       "'0.2.dev'"
      ]
     },
     "execution_count": 3,
     "metadata": {},
     "output_type": "execute_result"
    }
   ],
   "source": [
    "pc.__version__"
   ]
  },
  {
   "cell_type": "markdown",
   "id": "f7be334b-6958-4d1a-8307-7cf30e1d621a",
   "metadata": {},
   "source": [
    "**Task**: Verify fault-tolerance of the $|0_L\\rangle$-preparation circuit with flag qubit.\n",
    "* The Stabilizer generators of the Steane code are pure (don't mix X/Z): <IIIZZZZ,ZIZIZIZ,IZZIIZZ> + <IIIXXXX,XIXIXIX,IXXIIXX>.\n",
    "* Thus, we can do the stabilizer measurements and error corrections in series, first for expl for Z, then for X. (Not implemented here.)\n",
    "* This circuit **prepares** the state $|0_L\\rangle$ of the Steane code (it neither measures syndromes nor corrects any errors).\n",
    "* The $|0_L\\rangle$ state is not unique. Every +1-eigenstate of a Z-stabilizer is a $|0_L\\rangle$ state, as $Z_L|0_L\\rangle=+1|0_L\\rangle$ for $Z_L=ZZZZZZZ$ and since the stabilizers are linearly independent: $[S_i,S_j]=0$\n",
    "* Furthermore, every -1-eigenstate of a Z-stabilizer can be found by bitwise-inversion: $X_L |0_L\\rangle=|1_L\\rangle$ with $X_L=XXXXXXX$, expl. `0b0001111` ^ `0b1111111` = `0b1110000`, s.t. $Z_L|1_L\\rangle=-1|1_L\\rangle$.\n",
    "* **Note** that both $|0_L\\rangle$ and $|1_L\\rangle$ are +1 eigenstates of the stabilizers, but only correspond to $\\pm1$-eigenstates of the logical operator $Z_L$.\n",
    "* Thus, this circuit guarantees that for any possible single- or 2-qubit fault in the circuit, the output state will be one of the $|0_L\\rangle$ states with max. 1 error (X,Y,Z) on 1 qubit, which a subsequent round of error-correction (not implemented) is capable to resolve.\n",
    "* **Note**: *Faults* arise in the circuit and might cause *errors* in the output state by propagation. We are considering 1- and 2-qubit faults in the circuit and know the Steane code is capable to correct a 1-qubit error (in output).\n",
    "* For $|0_L\\rangle$ states which are more than 1 error away from the closest stabilizer eigenstate, the flag qubit will be on, telling us to discard the state, as we cannot correct it.\n",
    "    * In this case, the state would be interpreted as a $|1_L\\rangle$ state with a single-qubit error, which will subsequently be corrected to $|1_L\\rangle$, expl. `0b0000101`: smallest dist: to $K_1,K_2,K_3$ is 2 will be corrected to `0b0100101` which is a $|1_L\\rangle$ (i.e. also a +1 eigenstate of all stabilizers).\n",
    "    * Conversely, we can check if the inverse of an output state has a distance less or equal than 1 to one of the stabilizers. This is only the case for $|0_L\\rangle$ with 2 or 3 qb. errors $\\rightarrow$ $|1_L\\rangle$ with 1 or 0 qb. errors, as both $|0_L\\rangle$ and $|1_L\\rangle$ are +1 eigenstates of all stabilizers."
   ]
  },
  {
   "cell_type": "code",
   "execution_count": 11,
   "id": "6d22b2a9-ee6b-455e-b719-eaeadc4a8ec3",
   "metadata": {},
   "outputs": [
    {
     "name": "stdout",
     "output_type": "stream",
     "text": [
      "{'X': {4, 6, 7}, 'Y': set(), 'Z': set()}\n",
      "{'X': {4, 7}, 'Y': {6}, 'Z': {2, 3}}\n",
      "{'X': {0, 2, 7}, 'Y': set(), 'Z': {3, 6}}\n",
      "{'X': {0, 2, 7}, 'Y': set(), 'Z': set()}\n",
      "{'X': {0, 7}, 'Y': {2}, 'Z': {3, 6}}\n",
      "{'X': {0, 7}, 'Y': {2}, 'Z': set()}\n",
      "{'X': {4, 6, 7}, 'Y': set(), 'Z': {2}}\n",
      "{'X': {4, 7}, 'Y': {6}, 'Z': {2, 3}}\n",
      "{'X': {4, 6, 7}, 'Y': set(), 'Z': set()}\n",
      "{'X': {4, 7}, 'Y': {6}, 'Z': {3}}\n",
      "{'X': {1, 5, 7}, 'Y': set(), 'Z': {4, 6}}\n",
      "{'X': {1, 5, 7}, 'Y': set(), 'Z': set()}\n",
      "{'X': {5, 7}, 'Y': {1}, 'Z': {4, 6}}\n",
      "{'X': {5, 7}, 'Y': {1}, 'Z': set()}\n",
      "{'X': {0, 2, 7}, 'Y': set(), 'Z': set()}\n",
      "{'X': {2, 7}, 'Y': {0}, 'Z': set()}\n",
      "{'X': {0, 7}, 'Y': {2}, 'Z': set()}\n",
      "{'X': {7}, 'Y': {0, 2}, 'Z': set()}\n",
      "{'X': {4, 6, 7}, 'Y': set(), 'Z': {3}}\n",
      "{'X': {4, 7}, 'Y': {6}, 'Z': {3}}\n",
      "{'X': {4, 6, 7}, 'Y': set(), 'Z': set()}\n",
      "{'X': {4, 7}, 'Y': {6}, 'Z': set()}\n",
      "{'X': {1, 5, 7}, 'Y': set(), 'Z': set()}\n",
      "{'X': {1, 7}, 'Y': {5}, 'Z': set()}\n",
      "{'X': {5, 7}, 'Y': {1}, 'Z': set()}\n",
      "{'X': {7}, 'Y': {1, 5}, 'Z': set()}\n",
      "{'X': {4, 6, 7}, 'Y': set(), 'Z': set()}\n",
      "{'X': {6, 7}, 'Y': {4}, 'Z': set()}\n",
      "{'X': {4, 7}, 'Y': {6}, 'Z': set()}\n",
      "{'X': {7}, 'Y': {4, 6}, 'Z': set()}\n"
     ]
    }
   ],
   "source": [
    "# Build circuit\n",
    "qc = pc.circuits.QuantumCircuit()\n",
    "qc.append('init |0>',{0,4,5,6})\n",
    "qc.append('init |+>',{1,2,3})\n",
    "qc.append('CNOT',{(1,0),(3,5)})\n",
    "qc.append('CNOT',{(2,6)})\n",
    "qc.append('CNOT',{(1,4)})\n",
    "qc.append('CNOT',{(2,0),(3,6)})\n",
    "qc.append('CNOT',{(1,5)})\n",
    "qc.append('CNOT',{(6,4)})\n",
    "qc.append('CNOT',{(0,7)})\n",
    "qc.append('CNOT',{(5,7)})\n",
    "qc.append('CNOT',{(6,7)})\n",
    "qc.append('measure Z', {0,1,2,3,4,5,6})\n",
    "\n",
    "# All possible 1-qb and 2-qb faults\n",
    "faults_1 = ['X', 'Y', 'Z']\n",
    "faults_2 = list(itertools.product(faults_1 + [\"I\"], repeat=2)) # variation with repetition\n",
    "faults_2.remove(('I','I')) # remove II as it is not a fault\n",
    "\n",
    "def get_fcirc(tick, circuit_setup):\n",
    "    fc = pc.error_gens.ErrorCircuits()\n",
    "    qc = pc.circuits.QuantumCircuit(circuit_setup=circuit_setup)\n",
    "    fc.add_circuits(time=tick, after_faults=qc)\n",
    "    return fc\n",
    "\n",
    "# Generate all possible faults at all possible positions in the circuit\n",
    "gates_1 = [(i, locs) for i,(_,locs,_) in enumerate(qc.items()) if all(type(l) is int for l in locs)]\n",
    "gates_2 = [(i, locs) for i,(_,locs,_) in enumerate(qc.items()) if all(type(l) is tuple for l in locs)]\n",
    "f1_circs = [get_fcirc(t,[{f:{l}}]) for (t,ls) in gates_1 for l in ls for f in faults_1]\n",
    "f2_circs = [get_fcirc(tick,[{fault:{loc}} for fault, loc in zip(ftup,ltup) if fault != 'I']) for tick,locs in gates_2 for ltup in locs for ftup in faults_2]\n",
    "\n",
    "# CSS Stabilizer generators are pure (no X-Z-mixing)\n",
    "# thus can be represented in simple binary form (111 instead of 111|000)\n",
    "# Also each string is the +1 eigenvector in the corresponding basis P=Z or P=X.\n",
    "# Ex. IIIZZZZ |xxx1111> = |xxx1111> and IIIZZZZ |xxx0000> = |xxx0000>\n",
    "k1 = 0b0001111 # IIIPPPP\n",
    "k2 = 0b1010101 # PIPIPIP\n",
    "k3 = 0b0110011 # IPPIIPP\n",
    "stab_gens = [k1,k2,k3] # generators of stabilizer group\n",
    "stabs = [0,k1,k2,k3,k1^k2,k2^k3,k1^k3,k1^k2^k3] # stabs: powerset of generators, 0: identity\n",
    "\n",
    "hamming2 = lambda a,b: bin(a^b).count('1') # Hamming dist: # of bit pairs with odd parity\n",
    "\n",
    "n_qbs = 7 # no errors on flag qubit\n",
    "circ_runner = pc.circuit_runners.Standard(seed=np.random.randint(1e9))\n",
    "for f in f1_circs + f2_circs:\n",
    "    \n",
    "    # 1. Propagate errors through circuit & measure\n",
    "    state = pc.simulators.PauliFaultProp(n_qbs)\n",
    "    msmt, _ = circ_runner.run(state, qc, error_circuits=f) # updates 'state' to U|psi> & (non-destructive) msmt\n",
    "    error = state.faults # error caused by propagated fault(s).\n",
    "    \n",
    "    # 2. Convert measurement to 7-bit string in Z-basis\n",
    "    msmt_bit_str = BitArray(bin='0000000')\n",
    "    for idx in list(*msmt.values()):\n",
    "        msmt_bit_str[idx] = 1 # replace 0->1 at msmt index\n",
    "\n",
    "    # 3. Check for logical error\n",
    "    inv_msmt = msmt_bit_str.uint ^ 0b1111111 # |0_L>+n errs -> |1_L>+3-n errs\n",
    "    c = [hamming2(inv_msmt, stab) for stab in stabs] # dist each stab to orth. msmt state \n",
    "    if min(c) <= 1: # orth. msmt state closer to stab than msmt state\n",
    "        print(error) # Notice that in all cases there is an X on qb. 7 (flag)"
   ]
  }
 ],
 "metadata": {
  "kernelspec": {
   "display_name": "Python 3 (ipykernel)",
   "language": "python",
   "name": "python3"
  },
  "language_info": {
   "codemirror_mode": {
    "name": "ipython",
    "version": 3
   },
   "file_extension": ".py",
   "mimetype": "text/x-python",
   "name": "python",
   "nbconvert_exporter": "python",
   "pygments_lexer": "ipython3",
   "version": "3.9.7"
  }
 },
 "nbformat": 4,
 "nbformat_minor": 5
}
