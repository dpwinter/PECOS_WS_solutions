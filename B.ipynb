{
 "cells": [
  {
   "cell_type": "code",
   "execution_count": 19,
   "id": "70ee1209-34de-440c-b312-d6f3ae8bd264",
   "metadata": {},
   "outputs": [],
   "source": [
    "import pecos as pc\n",
    "import numpy as np\n",
    "import itertools"
   ]
  },
  {
   "cell_type": "code",
   "execution_count": 3,
   "id": "7de17717-1a39-4e6a-81a9-8ea24431bf63",
   "metadata": {},
   "outputs": [
    {
     "data": {
      "text/plain": [
       "'0.2.dev'"
      ]
     },
     "execution_count": 3,
     "metadata": {},
     "output_type": "execute_result"
    }
   ],
   "source": [
    "pc.__version__"
   ]
  },
  {
   "cell_type": "markdown",
   "id": "f7be334b-6958-4d1a-8307-7cf30e1d621a",
   "metadata": {},
   "source": [
    "**Task**: Verify fault-tolerance of the $|0_L\\rangle$-preparation circuit with flag qubit.\n",
    "* The Stabilizer generators of the Steane code are pure (don't mix X/Z): <IIIZZZZ,ZIZIZIZ,IZZIIZZ> + <IIIXXXX,XIXIXIX,IXXIIXX>.\n",
    "* This circuit **prepares** the state $|0_L\\rangle$ of the Steane code (it neither measures syndromes nor corrects any errors).\n",
    "* The $|0_L\\rangle$ and $|1_L\\rangle$ states are the codewords, thus they are +1 eigenstates of all stabilizers (X- **and** Z-stabilizers)\n",
    "* $|0_L\\rangle=|0000000\\rangle+|1010101\\rangle+|0110011\\rangle+|1100110\\rangle+|0001111\\rangle+|1011010\\rangle+|0111100\\rangle+|1101001\\rangle$ and $|1_L\\rangle=X_L|0_L\\rangle=|1111111\\rangle+|0101010\\rangle+|1001100\\rangle+|0011001\\rangle+|1110000\\rangle+|0100101\\rangle+|1000011\\rangle+|0010110\\rangle$ are unique linear combinations of the 16 codewords of the Hamming $[7,4,3]$ code which become the two codwords of the Steane code by construction via dual code.\n",
    "* **Note** that both $|0_L\\rangle$ and $|1_L\\rangle$ are +1 eigenstates of the stabilizers, but they correspond to $\\pm1$-eigenstates of the logical operator $Z_L$.\n",
    "* This circuit guarantees that for any possible single- or 2-qubit fault the output state will be the $|0_L\\rangle$ state with max. 1 error (X,Y,Z) on 1 qubit, which a subsequent round of error-correction (not implemented) is capable to resolve.\n",
    "* **Note**: *Faults* arise in the circuit and might cause *errors* in the output state by propagation. We are considering 1- and 2-qubit faults in the circuit and know the Steane code is capable to correct a 1-qubit error (in output).\n",
    "* For a physical state which is **more than** 1 error away from the closest codeword (stabilizer bitstring), the flag qubit will be on, telling us to discard the state, as we cannot correct it.\n",
    "    * In this case, the state would be interpreted as a $|1_L\\rangle$ state with a single-qubit error, which will subsequently be corrected to $|1_L\\rangle$, for example $|\\psi\\rangle=|\\textbf{1}0\\textbf{1}0000\\rangle+|\\textbf{0}0\\textbf{0}0101\\rangle+|\\textbf{1}1\\textbf{0}0011\\rangle+|\\textbf{0}1\\textbf{1}0110\\rangle+|\\textbf{1}0\\textbf{1}1111\\rangle+|\\textbf{0}0\\textbf{0}1010\\rangle+|\\textbf{1}1\\textbf{0}1100\\rangle+|\\textbf{0}1\\textbf{1}1001\\rangle$, which is closer to the $|1_L\\rangle$ state than to the $|0_L\\rangle$ state. \n",
    "    * It is more advantageous to think about how the stabilizer generators (i.e. the symmetries of the code space) change due to errors and not how the state changes. Thus, for the $X_1X_3$ error above the generators change like $<XIXZZZ,-YIYIZIZ,iXZYIIZZ,\\textbf{XIXXXXX},IIIIXIX,XXIIIXX>$. Note the closeness of the fourth stabilizer generator to the logical X-operator $X_L$ and a distance of 2 to the origin generator $IIIXXXX$.\n",
    "    * Conversely, we can check if the inverse of an output stabilizer generators has a distance less or equal than 1 to one of the original generators."
   ]
  },
  {
   "cell_type": "code",
   "execution_count": 18,
   "id": "6d22b2a9-ee6b-455e-b719-eaeadc4a8ec3",
   "metadata": {},
   "outputs": [
    {
     "name": "stdout",
     "output_type": "stream",
     "text": [
      "{'X': {4, 6, 7}, 'Y': set(), 'Z': set()}\n",
      "{'X': {4, 7}, 'Y': {6}, 'Z': {2, 3}}\n",
      "{'X': {0, 2, 7}, 'Y': set(), 'Z': {3, 6}}\n",
      "{'X': {0, 2, 7}, 'Y': set(), 'Z': set()}\n",
      "{'X': {0, 7}, 'Y': {2}, 'Z': {3, 6}}\n",
      "{'X': {0, 7}, 'Y': {2}, 'Z': set()}\n",
      "{'X': {4, 6, 7}, 'Y': set(), 'Z': {2}}\n",
      "{'X': {4, 7}, 'Y': {6}, 'Z': {2, 3}}\n",
      "{'X': {4, 6, 7}, 'Y': set(), 'Z': set()}\n",
      "{'X': {4, 7}, 'Y': {6}, 'Z': {3}}\n",
      "{'X': {1, 5, 7}, 'Y': set(), 'Z': {4, 6}}\n",
      "{'X': {1, 5, 7}, 'Y': set(), 'Z': set()}\n",
      "{'X': {5, 7}, 'Y': {1}, 'Z': {4, 6}}\n",
      "{'X': {5, 7}, 'Y': {1}, 'Z': set()}\n",
      "{'X': {0, 2, 7}, 'Y': set(), 'Z': set()}\n",
      "{'X': {2, 7}, 'Y': {0}, 'Z': set()}\n",
      "{'X': {0, 7}, 'Y': {2}, 'Z': set()}\n",
      "{'X': {7}, 'Y': {0, 2}, 'Z': set()}\n",
      "{'X': {4, 6, 7}, 'Y': set(), 'Z': {3}}\n",
      "{'X': {4, 7}, 'Y': {6}, 'Z': {3}}\n",
      "{'X': {4, 6, 7}, 'Y': set(), 'Z': set()}\n",
      "{'X': {4, 7}, 'Y': {6}, 'Z': set()}\n",
      "{'X': {1, 5, 7}, 'Y': set(), 'Z': set()}\n",
      "{'X': {1, 7}, 'Y': {5}, 'Z': set()}\n",
      "{'X': {5, 7}, 'Y': {1}, 'Z': set()}\n",
      "{'X': {7}, 'Y': {1, 5}, 'Z': set()}\n",
      "{'X': {4, 6, 7}, 'Y': set(), 'Z': set()}\n",
      "{'X': {6, 7}, 'Y': {4}, 'Z': set()}\n",
      "{'X': {4, 7}, 'Y': {6}, 'Z': set()}\n",
      "{'X': {7}, 'Y': {4, 6}, 'Z': set()}\n"
     ]
    }
   ],
   "source": [
    "# Build circuit\n",
    "qc = pc.circuits.QuantumCircuit()\n",
    "qc.append('init |0>',{0,4,5,6})\n",
    "qc.append('init |+>',{1,2,3})\n",
    "qc.append('CNOT',{(1,0),(3,5)})\n",
    "qc.append('CNOT',{(2,6)})\n",
    "qc.append('CNOT',{(1,4)})\n",
    "qc.append('CNOT',{(2,0),(3,6)})\n",
    "qc.append('CNOT',{(1,5)})\n",
    "qc.append('CNOT',{(6,4)})\n",
    "qc.append('CNOT',{(0,7)})\n",
    "qc.append('CNOT',{(5,7)})\n",
    "qc.append('CNOT',{(6,7)})\n",
    "qc.append('measure Z', {0,1,2,3,4,5,6})\n",
    "\n",
    "# All possible 1-qb and 2-qb faults\n",
    "faults_1 = ['X', 'Y', 'Z']\n",
    "faults_2 = list(itertools.product(faults_1 + [\"I\"], repeat=2)) # variation with repetition\n",
    "faults_2.remove(('I','I')) # remove II as it is not a fault\n",
    "\n",
    "def get_fcirc(tick, circuit_setup):\n",
    "    fc = pc.error_gens.ErrorCircuits()\n",
    "    qc = pc.circuits.QuantumCircuit(circuit_setup=circuit_setup)\n",
    "    fc.add_circuits(time=tick, after_faults=qc)\n",
    "    return fc\n",
    "\n",
    "# Generate all possible faults at all possible positions in the circuit\n",
    "gates_1 = [(i, locs) for i,(_,locs,_) in enumerate(qc.items()) if all(type(l) is int for l in locs)]\n",
    "gates_2 = [(i, locs) for i,(_,locs,_) in enumerate(qc.items()) if all(type(l) is tuple for l in locs)]\n",
    "f1_circs = [get_fcirc(t,[{f:{l}}]) for (t,ls) in gates_1 for l in ls for f in faults_1]\n",
    "f2_circs = [get_fcirc(tick,[{fault:{loc}} for fault, loc in zip(ftup,ltup) if fault != 'I']) for tick,locs in gates_2 for ltup in locs for ftup in faults_2]\n",
    "\n",
    "# CSS Stabilizer generators are pure (no X-Z-mixing)\n",
    "# thus can be represented in simple binary form (111 instead of 111|000)\n",
    "k1 = 0b0001111 # IIIPPPP\n",
    "k2 = 0b1010101 # PIPIPIP\n",
    "k3 = 0b0110011 # IPPIIPP\n",
    "stab_gens = [k1,k2,k3] # generators of stabilizer group\n",
    "stabs = [0,k1,k2,k3,k1^k2,k2^k3,k1^k3,k1^k2^k3] # stabs: powerset of generators, 0: identity\n",
    "\n",
    "hamming2 = lambda a,b: bin(a^b).count('1') # Hamming dist: # of bit pairs with odd parity\n",
    "\n",
    "# Create bitstring from list of indices for '1's left to right (MSB) \n",
    "# Need MSB due to naming convention of Pauli strings, expl. IIX = X3 -> 001\n",
    "def bin_from_ids(indices, bitlen=7):\n",
    "    bit_string = 0\n",
    "    for index in indices:\n",
    "        bit_string |= 2**(bitlen-index-1) # 7-bit number 2**0..6\n",
    "    return bit_string\n",
    "\n",
    "n_qbs = 7 # no errors on flag qubit\n",
    "circ_runner = pc.circuit_runners.Standard(seed=np.random.randint(1e9))\n",
    "for f in f1_circs + f2_circs:\n",
    "    \n",
    "    # Propagate errors through circuit & measure\n",
    "    state = pc.simulators.PauliFaultProp(n_qbs)\n",
    "    msmt, _ = circ_runner.run(state, qc, error_circuits=f) # updates 'state' to U|psi> & (non-destructive) msmt\n",
    "    error = state.faults # error caused by propagated fault(s).\n",
    "    \n",
    "    # Check if any operator has a distance of 1 or 0 to logical X\n",
    "    msmt_str = bin_from_ids(list(*msmt.values()))\n",
    "    x_L_err = 1 if min([hamming2(msmt_str^0b1111111, stab) for stab in stabs]) <= 1 else 0\n",
    "    if x_L_err: print(error)"
   ]
  }
 ],
 "metadata": {
  "kernelspec": {
   "display_name": "Python 3 (ipykernel)",
   "language": "python",
   "name": "python3"
  },
  "language_info": {
   "codemirror_mode": {
    "name": "ipython",
    "version": 3
   },
   "file_extension": ".py",
   "mimetype": "text/x-python",
   "name": "python",
   "nbconvert_exporter": "python",
   "pygments_lexer": "ipython3",
   "version": "3.9.7"
  }
 },
 "nbformat": 4,
 "nbformat_minor": 5
}
