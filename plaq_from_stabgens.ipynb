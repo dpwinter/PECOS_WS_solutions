{
 "cells": [
  {
   "cell_type": "code",
   "execution_count": 5,
   "id": "88659186-c863-4cf7-82e9-f7c5accbadcb",
   "metadata": {},
   "outputs": [
    {
     "name": "stdout",
     "output_type": "stream",
     "text": [
      "[BitArray('0b0001111'), BitArray('0b1010101'), BitArray('0b0110011')]\n",
      "[{3, 4, 5, 6}, {0, 2, 4, 6}, {1, 2, 5, 6}]\n"
     ]
    }
   ],
   "source": [
    "from bitstring import BitArray\n",
    "\n",
    "# Plaquettes are defined by the stabilizer generators:\n",
    "\n",
    "k1 = BitArray(bin='0001111')\n",
    "k2 = BitArray(bin='1010101')\n",
    "k3 = BitArray(bin='0110011')\n",
    "stab_gens = [k1,k2,k3]\n",
    "stabs = [BitArray(bin='0000000'),k1,k2,k3,k1^k2,k2^k3,k1^k3,k1^k2^k3]\n",
    "\n",
    "ones = lambda bitarr: {idx for idx, bit in enumerate(bitarr.bin) if bit==\"1\"}\n",
    "plaqs = [ones(k1), ones(k2), ones(k3)]\n",
    "msmt_qbs = [7,8,9]\n",
    "COR_TABLE = {\n",
    "    msmt_qbs[0]: plaqs[0] - plaqs[1] - plaqs[2],\n",
    "    msmt_qbs[1]: plaqs[1] - plaqs[2] - plaqs[0],\n",
    "    msmt_qbs[2]: plaqs[2] - plaqs[0] - plaqs[1],\n",
    "    msmt_qbs[0] + msmt_qbs[1]: plaqs[0] & plaqs[1] - plaqs[2],\n",
    "    msmt_qbs[1] + msmt_qbs[2]: plaqs[1] & plaqs[2] - plaqs[0],\n",
    "    msmt_qbs[0] + msmt_qbs[2]: plaqs[0] & plaqs[2] - plaqs[1],\n",
    "    msmt_qbs[0] + msmt_qbs[1] + msmt_qbs[2]: plaqs[0] & plaqs[1] & plaqs[2]\n",
    "}\n",
    "\n",
    "print(stab_gens)\n",
    "print(plaqs) # set of single qb Z (or X)-ops per stab gen. (i.e. index of 1)"
   ]
  }
 ],
 "metadata": {
  "kernelspec": {
   "display_name": "Python 3 (ipykernel)",
   "language": "python",
   "name": "python3"
  },
  "language_info": {
   "codemirror_mode": {
    "name": "ipython",
    "version": 3
   },
   "file_extension": ".py",
   "mimetype": "text/x-python",
   "name": "python",
   "nbconvert_exporter": "python",
   "pygments_lexer": "ipython3",
   "version": "3.9.7"
  }
 },
 "nbformat": 4,
 "nbformat_minor": 5
}
